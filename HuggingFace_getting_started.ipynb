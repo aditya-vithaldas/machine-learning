{
  "nbformat": 4,
  "nbformat_minor": 0,
  "metadata": {
    "colab": {
      "name": "HuggingFace getting started.ipynb",
      "provenance": [],
      "authorship_tag": "ABX9TyPOCl/ogE9chQy7I5NGZDJp",
      "include_colab_link": true
    },
    "kernelspec": {
      "name": "python3",
      "display_name": "Python 3"
    },
    "language_info": {
      "name": "python"
    }
  },
  "cells": [
    {
      "cell_type": "markdown",
      "metadata": {
        "id": "view-in-github",
        "colab_type": "text"
      },
      "source": [
        "<a href=\"https://colab.research.google.com/github/aditya-vithaldas/machine-learning/blob/master/HuggingFace_getting_started.ipynb\" target=\"_parent\"><img src=\"https://colab.research.google.com/assets/colab-badge.svg\" alt=\"Open In Colab\"/></a>"
      ]
    },
    {
      "cell_type": "markdown",
      "metadata": {
        "id": "Z4Wx-1iF0ArY"
      },
      "source": [
        "## Simple tranformer for sentiment"
      ]
    },
    {
      "cell_type": "code",
      "metadata": {
        "colab": {
          "base_uri": "https://localhost:8080/"
        },
        "id": "OF2AMQozzo-j",
        "outputId": "a3b9eb86-6f09-4419-db60-465c96ae85bf"
      },
      "source": [
        "#!pip install transformers\n",
        "#This actually, autto builds the full pipeline of tokenizing, creating model and blah\n",
        "from transformers import pipeline\n",
        "classifier = pipeline(\"sentiment-analysis\")\n",
        "print (classifier(\"i hate this\"))\n",
        "print (classifier(\"this was actially quite nice\"))"
      ],
      "execution_count": 5,
      "outputs": [
        {
          "output_type": "stream",
          "name": "stderr",
          "text": [
            "No model was supplied, defaulted to distilbert-base-uncased-finetuned-sst-2-english (https://huggingface.co/distilbert-base-uncased-finetuned-sst-2-english)\n"
          ]
        },
        {
          "output_type": "stream",
          "name": "stdout",
          "text": [
            "[{'label': 'NEGATIVE', 'score': 0.9996224641799927}]\n",
            "[{'label': 'POSITIVE', 'score': 0.9998064637184143}]\n"
          ]
        }
      ]
    },
    {
      "cell_type": "markdown",
      "metadata": {
        "id": "5mD54f5O0zwC"
      },
      "source": [
        "## Deconstructed transformer for sentiment"
      ]
    },
    {
      "cell_type": "code",
      "metadata": {
        "colab": {
          "base_uri": "https://localhost:8080/"
        },
        "id": "55YwB1hP0zW3",
        "outputId": "9de6d049-8d8a-421b-b45f-6ee684ad89b7"
      },
      "source": [
        "from transformers import AutoTokenizer, AutoModelForSequenceClassification\n",
        "#This basically tries to break down the 2-3 steps that go into the making of a transformer\n",
        "model_name = \"nlptown/bert-base-multilingual-uncased-sentiment\"\n",
        "#first, being creation of a tokenized\n",
        "tokenizer = AutoTokenizer.from_pretrained(model_name)\n",
        "#second is model\n",
        "model = AutoModelForSequenceClassification.from_pretrained(model_name)\n",
        "#creating a classified then, using the model and tokenizer\n",
        "classifier = pipeline('sentiment-analysis', model=model, tokenizer=tokenizer)\n",
        "#final is predition\n",
        "print (classifier(\"fantastic\"))\n"
      ],
      "execution_count": 9,
      "outputs": [
        {
          "output_type": "stream",
          "name": "stdout",
          "text": [
            "[{'label': '5 stars', 'score': 0.8357991576194763}]\n"
          ]
        }
      ]
    }
  ]
}